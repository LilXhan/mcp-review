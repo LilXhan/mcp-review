{
 "cells": [
  {
   "cell_type": "code",
   "execution_count": 4,
   "id": "b5a6b77d",
   "metadata": {},
   "outputs": [
    {
     "name": "stdout",
     "output_type": "stream",
     "text": [
      "We are up and running\n"
     ]
    }
   ],
   "source": [
    "# Import necessary libraries\n",
    "import os \n",
    "from typing import Any, Dict\n",
    "\n",
    "import google.generativeai as genai \n",
    "import requests\n",
    "from dotenv import load_dotenv\n",
    "\n",
    "print(\"We are up and running\")"
   ]
  },
  {
   "cell_type": "markdown",
   "id": "68ee63c8",
   "metadata": {},
   "source": [
    "Ensure that you created a Gemini API Key [Here](https://aistudio.google.com/apikey) and added it to the .env file before executing the next command"
   ]
  },
  {
   "cell_type": "code",
   "execution_count": 11,
   "id": "95c6c41e",
   "metadata": {},
   "outputs": [
    {
     "name": "stdout",
     "output_type": "stream",
     "text": [
      "Gemini model loaded successfully: models/gemini-2.0-flash\n"
     ]
    }
   ],
   "source": [
    "# load environment variables \n",
    "load_dotenv()\n",
    "\n",
    "api_key = os.getenv('GEMINI_API_KEY')\n",
    "if not api_key or api_key.startswith('ADD YOUR'):\n",
    "    raise ValueError('GEMINI_API_KEY not found in .env file')\n",
    "\n",
    "# Configure Gemini\n",
    "genai.configure(api_key=api_key)\n",
    "model = genai.GenerativeModel('gemini-2.0-flash')\n",
    "\n",
    "print(f'Gemini model loaded successfully: {model.model_name}')"
   ]
  },
  {
   "cell_type": "code",
   "execution_count": 26,
   "id": "4dd61965",
   "metadata": {},
   "outputs": [
    {
     "name": "stdout",
     "output_type": "stream",
     "text": [
      "The symbol of Solana is **SOL**.\n",
      "\n"
     ]
    }
   ],
   "source": [
    "PROMPT = 'What is the symbol of Solana?'\n",
    "chat = model.start_chat()\n",
    "response = chat.send_message(PROMPT)\n",
    "print(response.text)"
   ]
  },
  {
   "cell_type": "code",
   "execution_count": 13,
   "id": "61aba153",
   "metadata": {},
   "outputs": [
    {
     "name": "stdout",
     "output_type": "stream",
     "text": [
      "response:\n",
      "GenerateContentResponse(\n",
      "    done=True,\n",
      "    iterator=None,\n",
      "    result=protos.GenerateContentResponse({\n",
      "      \"candidates\": [\n",
      "        {\n",
      "          \"content\": {\n",
      "            \"parts\": [\n",
      "              {\n",
      "                \"text\": \"I cannot provide you with real-time, up-to-the-minute price data for Solana (SOL). Cryptocurrency prices are highly volatile and change constantly.\\n\\nHowever, here's how you can find the current price of Solana:\\n\\n*   **Reputable Cryptocurrency Exchanges:** Check major exchanges like Coinbase, Binance, Kraken, Gemini, or KuCoin. These exchanges usually provide real-time price charts and trading information.\\n*   **Cryptocurrency Tracking Websites:** Use websites like CoinMarketCap, CoinGecko, or Crypto.com. These sites aggregate price data from various exchanges and provide charts, market capitalization, and other relevant information.\\n*   **Financial News Websites:** Some financial news outlets (e.g., Bloomberg, Reuters, CNBC) provide cryptocurrency price updates, though they might not be as granular as crypto-specific sites.\\n\\n**Please remember:**\\n*   Cryptocurrency investments are risky. Do your own research before investing.\\n*   Be wary of unofficial or unreliable sources of price information. Stick to well-known and reputable platforms.\\n*   Prices can fluctuate significantly even within short periods.\"\n",
      "              }\n",
      "            ],\n",
      "            \"role\": \"model\"\n",
      "          },\n",
      "          \"finish_reason\": \"STOP\",\n",
      "          \"avg_logprobs\": -0.2771053398233153\n",
      "        }\n",
      "      ],\n",
      "      \"usage_metadata\": {\n",
      "        \"prompt_token_count\": 8,\n",
      "        \"candidates_token_count\": 227,\n",
      "        \"total_token_count\": 235\n",
      "      },\n",
      "      \"model_version\": \"gemini-2.0-flash\"\n",
      "    }),\n",
      ")\n"
     ]
    }
   ],
   "source": [
    "print(response)"
   ]
  },
  {
   "cell_type": "code",
   "execution_count": 14,
   "id": "5004244a",
   "metadata": {},
   "outputs": [
    {
     "name": "stdout",
     "output_type": "stream",
     "text": [
      "{'symbol': 'BTCUSDT', 'price': '106805.66000000'}\n"
     ]
    }
   ],
   "source": [
    "url = f'https://api.binance.com/api/v3/ticker/price?symbol=BTCUSDT'\n",
    "response = requests.get(url)\n",
    "data = response.json()\n",
    "print(data)"
   ]
  },
  {
   "cell_type": "code",
   "execution_count": 16,
   "id": "e51552eb",
   "metadata": {},
   "outputs": [],
   "source": [
    "# Define the function\n",
    "def get_crypto_price(symbol: str) -> Dict[str, Any]:\n",
    "    \"\"\"\n",
    "    Get the current price of a cryptocurrency from BINANCE API\n",
    "    \"\"\"\n",
    "\n",
    "    url = f'https://api.binance.com/api/v3/ticker/price?symbol={symbol}'\n",
    "    response = requests.get(url)\n",
    "    data = response.json()\n",
    "    return float(data['price'])\n"
   ]
  },
  {
   "cell_type": "code",
   "execution_count": 18,
   "id": "1df53439",
   "metadata": {},
   "outputs": [
    {
     "name": "stdout",
     "output_type": "stream",
     "text": [
      "BTC price in USDT: 106951.06\n"
     ]
    }
   ],
   "source": [
    "price = get_crypto_price('BTCUSDT')\n",
    "print(f'BTC price in USDT: {price}')"
   ]
  },
  {
   "cell_type": "code",
   "execution_count": 35,
   "id": "affbcef9",
   "metadata": {},
   "outputs": [],
   "source": [
    "tools = [\n",
    "    {\n",
    "        'function_declarations': [\n",
    "            {\n",
    "                'name': 'get_crypto_price',\n",
    "                'description': 'Get cryptocurrency price in USDT from Binance',\n",
    "                'parameters': {\n",
    "                    'type': 'object',\n",
    "                    'properties': {\n",
    "                        'symbol': {\n",
    "                            'type': 'string',\n",
    "                            'description': 'The cryptocurrency trading pair symbol (e.g, BTCUSDT, ETHUSDT). \\\n",
    "                                            The symbol for Bitcoin is BTCUSDT. \\\n",
    "                                            The symbol for Ethereum is ETHUSDT. \\ '\n",
    "                        }\n",
    "                    },\n",
    "                    'required': ['symbol']\n",
    "                }\n",
    "            }\n",
    "        ]\n",
    "    }\n",
    "]"
   ]
  },
  {
   "cell_type": "code",
   "execution_count": 36,
   "id": "7b9a3a27",
   "metadata": {},
   "outputs": [
    {
     "name": "stdout",
     "output_type": "stream",
     "text": [
      "response:\n",
      "GenerateContentResponse(\n",
      "    done=True,\n",
      "    iterator=None,\n",
      "    result=protos.GenerateContentResponse({\n",
      "      \"candidates\": [\n",
      "        {\n",
      "          \"content\": {\n",
      "            \"parts\": [\n",
      "              {\n",
      "                \"function_call\": {\n",
      "                  \"name\": \"get_crypto_price\",\n",
      "                  \"args\": {\n",
      "                    \"symbol\": \"ETHUSDT\"\n",
      "                  }\n",
      "                }\n",
      "              }\n",
      "            ],\n",
      "            \"role\": \"model\"\n",
      "          },\n",
      "          \"finish_reason\": \"STOP\",\n",
      "          \"avg_logprobs\": -0.006602738983929157\n",
      "        }\n",
      "      ],\n",
      "      \"usage_metadata\": {\n",
      "        \"prompt_token_count\": 62,\n",
      "        \"candidates_token_count\": 8,\n",
      "        \"total_token_count\": 70\n",
      "      },\n",
      "      \"model_version\": \"gemini-2.0-flash\"\n",
      "    }),\n",
      ")\n"
     ]
    }
   ],
   "source": [
    "PROMPT = 'What is the current price of Ethereum?'\n",
    "chat = model.start_chat()\n",
    "response = chat.send_message(PROMPT, tools=tools)\n",
    "print(response)"
   ]
  },
  {
   "cell_type": "code",
   "execution_count": 37,
   "id": "d7c227b6",
   "metadata": {},
   "outputs": [],
   "source": [
    "price = get_crypto_price('ETHUSDT')"
   ]
  },
  {
   "cell_type": "code",
   "execution_count": 38,
   "id": "1d89465e",
   "metadata": {},
   "outputs": [
    {
     "name": "stdout",
     "output_type": "stream",
     "text": [
      "response:\n",
      "GenerateContentResponse(\n",
      "    done=True,\n",
      "    iterator=None,\n",
      "    result=protos.GenerateContentResponse({\n",
      "      \"candidates\": [\n",
      "        {\n",
      "          \"content\": {\n",
      "            \"parts\": [\n",
      "              {\n",
      "                \"text\": \"The current price of Ethereum is $2644.72.\\n\"\n",
      "              }\n",
      "            ],\n",
      "            \"role\": \"model\"\n",
      "          },\n",
      "          \"finish_reason\": \"STOP\",\n",
      "          \"avg_logprobs\": -0.07664043456315994\n",
      "        }\n",
      "      ],\n",
      "      \"usage_metadata\": {\n",
      "        \"prompt_token_count\": 23,\n",
      "        \"candidates_token_count\": 16,\n",
      "        \"total_token_count\": 39\n",
      "      },\n",
      "      \"model_version\": \"gemini-2.0-flash\"\n",
      "    }),\n",
      ")\n"
     ]
    }
   ],
   "source": [
    "final_response = chat.send_message(str(price))\n",
    "print(final_response)"
   ]
  }
 ],
 "metadata": {
  "kernelspec": {
   "display_name": ".venv",
   "language": "python",
   "name": "python3"
  },
  "language_info": {
   "codemirror_mode": {
    "name": "ipython",
    "version": 3
   },
   "file_extension": ".py",
   "mimetype": "text/x-python",
   "name": "python",
   "nbconvert_exporter": "python",
   "pygments_lexer": "ipython3",
   "version": "3.11.2"
  }
 },
 "nbformat": 4,
 "nbformat_minor": 5
}
